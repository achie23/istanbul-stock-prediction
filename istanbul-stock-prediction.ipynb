{
 "cells": [
  {
   "cell_type": "code",
   "execution_count": 30,
   "metadata": {},
   "outputs": [],
   "source": [
    "# importing packages\n",
    "import pandas as pd\n",
    "import numpy as np\n",
    "import seaborn as sns\n",
    "import matplotlib.pyplot as plt\n",
    "plt.style.use(\"ggplot\")\n",
    "from pandas.plotting import register_matplotlib_converters\n",
    "from sklearn.linear_model import LinearRegression\n",
    "from sklearn.model_selection import train_test_split\n",
    "from sklearn.metrics import mean_absolute_error"
   ]
  },
  {
   "cell_type": "code",
   "execution_count": 2,
   "metadata": {},
   "outputs": [],
   "source": [
    "register_matplotlib_converters()"
   ]
  },
  {
   "cell_type": "code",
   "execution_count": 4,
   "metadata": {},
   "outputs": [],
   "source": [
    "# reading the data\n",
    "df = pd.read_csv('../Datasets/istanbul_stock_dataset.csv', parse_dates = ['date'])"
   ]
  },
  {
   "cell_type": "code",
   "execution_count": 5,
   "metadata": {},
   "outputs": [
    {
     "data": {
      "text/html": [
       "<div>\n",
       "<style scoped>\n",
       "    .dataframe tbody tr th:only-of-type {\n",
       "        vertical-align: middle;\n",
       "    }\n",
       "\n",
       "    .dataframe tbody tr th {\n",
       "        vertical-align: top;\n",
       "    }\n",
       "\n",
       "    .dataframe thead th {\n",
       "        text-align: right;\n",
       "    }\n",
       "</style>\n",
       "<table border=\"1\" class=\"dataframe\">\n",
       "  <thead>\n",
       "    <tr style=\"text-align: right;\">\n",
       "      <th></th>\n",
       "      <th>ISE_TL</th>\n",
       "      <th>ISE_USD</th>\n",
       "      <th>SP</th>\n",
       "      <th>DAX</th>\n",
       "      <th>FTSE</th>\n",
       "      <th>NIKKEI</th>\n",
       "      <th>BOVESPA</th>\n",
       "      <th>EU</th>\n",
       "      <th>EM</th>\n",
       "      <th>date</th>\n",
       "    </tr>\n",
       "  </thead>\n",
       "  <tbody>\n",
       "    <tr>\n",
       "      <th>0</th>\n",
       "      <td>0.035754</td>\n",
       "      <td>0.038376</td>\n",
       "      <td>-0.004679</td>\n",
       "      <td>0.002193</td>\n",
       "      <td>0.003894</td>\n",
       "      <td>0.000000</td>\n",
       "      <td>0.031190</td>\n",
       "      <td>0.012698</td>\n",
       "      <td>0.028524</td>\n",
       "      <td>2009-01-05</td>\n",
       "    </tr>\n",
       "    <tr>\n",
       "      <th>1</th>\n",
       "      <td>0.025426</td>\n",
       "      <td>0.031813</td>\n",
       "      <td>0.007787</td>\n",
       "      <td>0.008455</td>\n",
       "      <td>0.012866</td>\n",
       "      <td>0.004162</td>\n",
       "      <td>0.018920</td>\n",
       "      <td>0.011341</td>\n",
       "      <td>0.008773</td>\n",
       "      <td>2009-01-06</td>\n",
       "    </tr>\n",
       "    <tr>\n",
       "      <th>2</th>\n",
       "      <td>-0.028862</td>\n",
       "      <td>-0.026353</td>\n",
       "      <td>-0.030469</td>\n",
       "      <td>-0.017833</td>\n",
       "      <td>-0.028735</td>\n",
       "      <td>0.017293</td>\n",
       "      <td>-0.035899</td>\n",
       "      <td>-0.017073</td>\n",
       "      <td>-0.020015</td>\n",
       "      <td>2009-01-07</td>\n",
       "    </tr>\n",
       "    <tr>\n",
       "      <th>3</th>\n",
       "      <td>-0.062208</td>\n",
       "      <td>-0.084716</td>\n",
       "      <td>0.003391</td>\n",
       "      <td>-0.011726</td>\n",
       "      <td>-0.000466</td>\n",
       "      <td>-0.040061</td>\n",
       "      <td>0.028283</td>\n",
       "      <td>-0.005561</td>\n",
       "      <td>-0.019424</td>\n",
       "      <td>2009-01-08</td>\n",
       "    </tr>\n",
       "    <tr>\n",
       "      <th>4</th>\n",
       "      <td>0.009860</td>\n",
       "      <td>0.009658</td>\n",
       "      <td>-0.021533</td>\n",
       "      <td>-0.019873</td>\n",
       "      <td>-0.012710</td>\n",
       "      <td>-0.004474</td>\n",
       "      <td>-0.009764</td>\n",
       "      <td>-0.010989</td>\n",
       "      <td>-0.007802</td>\n",
       "      <td>2009-01-09</td>\n",
       "    </tr>\n",
       "  </tbody>\n",
       "</table>\n",
       "</div>"
      ],
      "text/plain": [
       "     ISE_TL   ISE_USD        SP       DAX      FTSE    NIKKEI   BOVESPA  \\\n",
       "0  0.035754  0.038376 -0.004679  0.002193  0.003894  0.000000  0.031190   \n",
       "1  0.025426  0.031813  0.007787  0.008455  0.012866  0.004162  0.018920   \n",
       "2 -0.028862 -0.026353 -0.030469 -0.017833 -0.028735  0.017293 -0.035899   \n",
       "3 -0.062208 -0.084716  0.003391 -0.011726 -0.000466 -0.040061  0.028283   \n",
       "4  0.009860  0.009658 -0.021533 -0.019873 -0.012710 -0.004474 -0.009764   \n",
       "\n",
       "         EU        EM       date  \n",
       "0  0.012698  0.028524 2009-01-05  \n",
       "1  0.011341  0.008773 2009-01-06  \n",
       "2 -0.017073 -0.020015 2009-01-07  \n",
       "3 -0.005561 -0.019424 2009-01-08  \n",
       "4 -0.010989 -0.007802 2009-01-09  "
      ]
     },
     "execution_count": 5,
     "metadata": {},
     "output_type": "execute_result"
    }
   ],
   "source": [
    "df.head()"
   ]
  },
  {
   "cell_type": "code",
   "execution_count": 6,
   "metadata": {},
   "outputs": [],
   "source": [
    "# setting the 'date' column as the index  \n",
    "if 'date' in df.columns:\n",
    "    df.set_index('date', inplace=True)"
   ]
  },
  {
   "cell_type": "code",
   "execution_count": 7,
   "metadata": {},
   "outputs": [
    {
     "data": {
      "text/html": [
       "<div>\n",
       "<style scoped>\n",
       "    .dataframe tbody tr th:only-of-type {\n",
       "        vertical-align: middle;\n",
       "    }\n",
       "\n",
       "    .dataframe tbody tr th {\n",
       "        vertical-align: top;\n",
       "    }\n",
       "\n",
       "    .dataframe thead th {\n",
       "        text-align: right;\n",
       "    }\n",
       "</style>\n",
       "<table border=\"1\" class=\"dataframe\">\n",
       "  <thead>\n",
       "    <tr style=\"text-align: right;\">\n",
       "      <th></th>\n",
       "      <th>ISE_TL</th>\n",
       "      <th>ISE_USD</th>\n",
       "      <th>SP</th>\n",
       "      <th>DAX</th>\n",
       "      <th>FTSE</th>\n",
       "      <th>NIKKEI</th>\n",
       "      <th>BOVESPA</th>\n",
       "      <th>EU</th>\n",
       "      <th>EM</th>\n",
       "    </tr>\n",
       "    <tr>\n",
       "      <th>date</th>\n",
       "      <th></th>\n",
       "      <th></th>\n",
       "      <th></th>\n",
       "      <th></th>\n",
       "      <th></th>\n",
       "      <th></th>\n",
       "      <th></th>\n",
       "      <th></th>\n",
       "      <th></th>\n",
       "    </tr>\n",
       "  </thead>\n",
       "  <tbody>\n",
       "    <tr>\n",
       "      <th>2009-01-05</th>\n",
       "      <td>0.035754</td>\n",
       "      <td>0.038376</td>\n",
       "      <td>-0.004679</td>\n",
       "      <td>0.002193</td>\n",
       "      <td>0.003894</td>\n",
       "      <td>0.000000</td>\n",
       "      <td>0.031190</td>\n",
       "      <td>0.012698</td>\n",
       "      <td>0.028524</td>\n",
       "    </tr>\n",
       "    <tr>\n",
       "      <th>2009-01-06</th>\n",
       "      <td>0.025426</td>\n",
       "      <td>0.031813</td>\n",
       "      <td>0.007787</td>\n",
       "      <td>0.008455</td>\n",
       "      <td>0.012866</td>\n",
       "      <td>0.004162</td>\n",
       "      <td>0.018920</td>\n",
       "      <td>0.011341</td>\n",
       "      <td>0.008773</td>\n",
       "    </tr>\n",
       "    <tr>\n",
       "      <th>2009-01-07</th>\n",
       "      <td>-0.028862</td>\n",
       "      <td>-0.026353</td>\n",
       "      <td>-0.030469</td>\n",
       "      <td>-0.017833</td>\n",
       "      <td>-0.028735</td>\n",
       "      <td>0.017293</td>\n",
       "      <td>-0.035899</td>\n",
       "      <td>-0.017073</td>\n",
       "      <td>-0.020015</td>\n",
       "    </tr>\n",
       "    <tr>\n",
       "      <th>2009-01-08</th>\n",
       "      <td>-0.062208</td>\n",
       "      <td>-0.084716</td>\n",
       "      <td>0.003391</td>\n",
       "      <td>-0.011726</td>\n",
       "      <td>-0.000466</td>\n",
       "      <td>-0.040061</td>\n",
       "      <td>0.028283</td>\n",
       "      <td>-0.005561</td>\n",
       "      <td>-0.019424</td>\n",
       "    </tr>\n",
       "    <tr>\n",
       "      <th>2009-01-09</th>\n",
       "      <td>0.009860</td>\n",
       "      <td>0.009658</td>\n",
       "      <td>-0.021533</td>\n",
       "      <td>-0.019873</td>\n",
       "      <td>-0.012710</td>\n",
       "      <td>-0.004474</td>\n",
       "      <td>-0.009764</td>\n",
       "      <td>-0.010989</td>\n",
       "      <td>-0.007802</td>\n",
       "    </tr>\n",
       "  </tbody>\n",
       "</table>\n",
       "</div>"
      ],
      "text/plain": [
       "              ISE_TL   ISE_USD        SP       DAX      FTSE    NIKKEI  \\\n",
       "date                                                                     \n",
       "2009-01-05  0.035754  0.038376 -0.004679  0.002193  0.003894  0.000000   \n",
       "2009-01-06  0.025426  0.031813  0.007787  0.008455  0.012866  0.004162   \n",
       "2009-01-07 -0.028862 -0.026353 -0.030469 -0.017833 -0.028735  0.017293   \n",
       "2009-01-08 -0.062208 -0.084716  0.003391 -0.011726 -0.000466 -0.040061   \n",
       "2009-01-09  0.009860  0.009658 -0.021533 -0.019873 -0.012710 -0.004474   \n",
       "\n",
       "             BOVESPA        EU        EM  \n",
       "date                                      \n",
       "2009-01-05  0.031190  0.012698  0.028524  \n",
       "2009-01-06  0.018920  0.011341  0.008773  \n",
       "2009-01-07 -0.035899 -0.017073 -0.020015  \n",
       "2009-01-08  0.028283 -0.005561 -0.019424  \n",
       "2009-01-09 -0.009764 -0.010989 -0.007802  "
      ]
     },
     "execution_count": 7,
     "metadata": {},
     "output_type": "execute_result"
    }
   ],
   "source": [
    "df.head()"
   ]
  },
  {
   "cell_type": "code",
   "execution_count": 8,
   "metadata": {},
   "outputs": [
    {
     "name": "stdout",
     "output_type": "stream",
     "text": [
      "<class 'pandas.core.frame.DataFrame'>\n",
      "DatetimeIndex: 536 entries, 2009-01-05 to 2011-02-22\n",
      "Data columns (total 9 columns):\n",
      "ISE_TL     536 non-null float64\n",
      "ISE_USD    536 non-null float64\n",
      "SP         536 non-null float64\n",
      "DAX        536 non-null float64\n",
      "FTSE       536 non-null float64\n",
      "NIKKEI     536 non-null float64\n",
      "BOVESPA    536 non-null float64\n",
      "EU         536 non-null float64\n",
      "EM         536 non-null float64\n",
      "dtypes: float64(9)\n",
      "memory usage: 41.9 KB\n"
     ]
    }
   ],
   "source": [
    "df.info()"
   ]
  },
  {
   "cell_type": "code",
   "execution_count": 9,
   "metadata": {},
   "outputs": [
    {
     "data": {
      "text/plain": [
       "False"
      ]
     },
     "execution_count": 9,
     "metadata": {},
     "output_type": "execute_result"
    }
   ],
   "source": [
    "# checking for duplicates\n",
    "df.duplicated().any()"
   ]
  },
  {
   "cell_type": "code",
   "execution_count": 10,
   "metadata": {},
   "outputs": [
    {
     "data": {
      "text/html": [
       "<div>\n",
       "<style scoped>\n",
       "    .dataframe tbody tr th:only-of-type {\n",
       "        vertical-align: middle;\n",
       "    }\n",
       "\n",
       "    .dataframe tbody tr th {\n",
       "        vertical-align: top;\n",
       "    }\n",
       "\n",
       "    .dataframe thead th {\n",
       "        text-align: right;\n",
       "    }\n",
       "</style>\n",
       "<table border=\"1\" class=\"dataframe\">\n",
       "  <thead>\n",
       "    <tr style=\"text-align: right;\">\n",
       "      <th></th>\n",
       "      <th>ISE_TL</th>\n",
       "      <th>ISE_USD</th>\n",
       "      <th>SP</th>\n",
       "      <th>DAX</th>\n",
       "      <th>FTSE</th>\n",
       "      <th>NIKKEI</th>\n",
       "      <th>BOVESPA</th>\n",
       "      <th>EU</th>\n",
       "      <th>EM</th>\n",
       "    </tr>\n",
       "  </thead>\n",
       "  <tbody>\n",
       "    <tr>\n",
       "      <th>count</th>\n",
       "      <td>536.000000</td>\n",
       "      <td>536.000000</td>\n",
       "      <td>536.000000</td>\n",
       "      <td>536.000000</td>\n",
       "      <td>536.000000</td>\n",
       "      <td>536.000000</td>\n",
       "      <td>536.000000</td>\n",
       "      <td>536.000000</td>\n",
       "      <td>536.000000</td>\n",
       "    </tr>\n",
       "    <tr>\n",
       "      <th>mean</th>\n",
       "      <td>0.001629</td>\n",
       "      <td>0.001552</td>\n",
       "      <td>0.000643</td>\n",
       "      <td>0.000721</td>\n",
       "      <td>0.000510</td>\n",
       "      <td>0.000308</td>\n",
       "      <td>0.000935</td>\n",
       "      <td>0.000471</td>\n",
       "      <td>0.000936</td>\n",
       "    </tr>\n",
       "    <tr>\n",
       "      <th>std</th>\n",
       "      <td>0.016264</td>\n",
       "      <td>0.021122</td>\n",
       "      <td>0.014093</td>\n",
       "      <td>0.014557</td>\n",
       "      <td>0.012656</td>\n",
       "      <td>0.014850</td>\n",
       "      <td>0.015751</td>\n",
       "      <td>0.012990</td>\n",
       "      <td>0.010501</td>\n",
       "    </tr>\n",
       "    <tr>\n",
       "      <th>min</th>\n",
       "      <td>-0.062208</td>\n",
       "      <td>-0.084716</td>\n",
       "      <td>-0.054262</td>\n",
       "      <td>-0.052331</td>\n",
       "      <td>-0.054816</td>\n",
       "      <td>-0.050448</td>\n",
       "      <td>-0.053849</td>\n",
       "      <td>-0.048817</td>\n",
       "      <td>-0.038564</td>\n",
       "    </tr>\n",
       "    <tr>\n",
       "      <th>25%</th>\n",
       "      <td>-0.006669</td>\n",
       "      <td>-0.009753</td>\n",
       "      <td>-0.004675</td>\n",
       "      <td>-0.006212</td>\n",
       "      <td>-0.005808</td>\n",
       "      <td>-0.007407</td>\n",
       "      <td>-0.007215</td>\n",
       "      <td>-0.005952</td>\n",
       "      <td>-0.004911</td>\n",
       "    </tr>\n",
       "    <tr>\n",
       "      <th>50%</th>\n",
       "      <td>0.002189</td>\n",
       "      <td>0.002643</td>\n",
       "      <td>0.000876</td>\n",
       "      <td>0.000887</td>\n",
       "      <td>0.000409</td>\n",
       "      <td>0.000000</td>\n",
       "      <td>0.000279</td>\n",
       "      <td>0.000196</td>\n",
       "      <td>0.001077</td>\n",
       "    </tr>\n",
       "    <tr>\n",
       "      <th>75%</th>\n",
       "      <td>0.010584</td>\n",
       "      <td>0.013809</td>\n",
       "      <td>0.006706</td>\n",
       "      <td>0.008224</td>\n",
       "      <td>0.007428</td>\n",
       "      <td>0.007882</td>\n",
       "      <td>0.008881</td>\n",
       "      <td>0.007792</td>\n",
       "      <td>0.006423</td>\n",
       "    </tr>\n",
       "    <tr>\n",
       "      <th>max</th>\n",
       "      <td>0.068952</td>\n",
       "      <td>0.100621</td>\n",
       "      <td>0.068366</td>\n",
       "      <td>0.058951</td>\n",
       "      <td>0.050323</td>\n",
       "      <td>0.061229</td>\n",
       "      <td>0.063792</td>\n",
       "      <td>0.067042</td>\n",
       "      <td>0.047805</td>\n",
       "    </tr>\n",
       "  </tbody>\n",
       "</table>\n",
       "</div>"
      ],
      "text/plain": [
       "           ISE_TL     ISE_USD          SP         DAX        FTSE      NIKKEI  \\\n",
       "count  536.000000  536.000000  536.000000  536.000000  536.000000  536.000000   \n",
       "mean     0.001629    0.001552    0.000643    0.000721    0.000510    0.000308   \n",
       "std      0.016264    0.021122    0.014093    0.014557    0.012656    0.014850   \n",
       "min     -0.062208   -0.084716   -0.054262   -0.052331   -0.054816   -0.050448   \n",
       "25%     -0.006669   -0.009753   -0.004675   -0.006212   -0.005808   -0.007407   \n",
       "50%      0.002189    0.002643    0.000876    0.000887    0.000409    0.000000   \n",
       "75%      0.010584    0.013809    0.006706    0.008224    0.007428    0.007882   \n",
       "max      0.068952    0.100621    0.068366    0.058951    0.050323    0.061229   \n",
       "\n",
       "          BOVESPA          EU          EM  \n",
       "count  536.000000  536.000000  536.000000  \n",
       "mean     0.000935    0.000471    0.000936  \n",
       "std      0.015751    0.012990    0.010501  \n",
       "min     -0.053849   -0.048817   -0.038564  \n",
       "25%     -0.007215   -0.005952   -0.004911  \n",
       "50%      0.000279    0.000196    0.001077  \n",
       "75%      0.008881    0.007792    0.006423  \n",
       "max      0.063792    0.067042    0.047805  "
      ]
     },
     "execution_count": 10,
     "metadata": {},
     "output_type": "execute_result"
    }
   ],
   "source": [
    "df.describe()"
   ]
  },
  {
   "cell_type": "code",
   "execution_count": 11,
   "metadata": {},
   "outputs": [],
   "source": [
    "df2 = df.drop('ISE_TL', axis=1)"
   ]
  },
  {
   "cell_type": "code",
   "execution_count": 12,
   "metadata": {},
   "outputs": [],
   "source": [
    "X = df.drop('ISE_TL', axis=1).values\n",
    "y = df.ISE_TL.values"
   ]
  },
  {
   "cell_type": "code",
   "execution_count": 13,
   "metadata": {},
   "outputs": [
    {
     "data": {
      "text/plain": [
       "(numpy.ndarray, numpy.ndarray)"
      ]
     },
     "execution_count": 13,
     "metadata": {},
     "output_type": "execute_result"
    }
   ],
   "source": [
    "type(X), type(y)"
   ]
  },
  {
   "cell_type": "code",
   "execution_count": 14,
   "metadata": {},
   "outputs": [],
   "source": [
    "# X"
   ]
  },
  {
   "cell_type": "code",
   "execution_count": 15,
   "metadata": {},
   "outputs": [],
   "source": [
    "# y"
   ]
  },
  {
   "cell_type": "code",
   "execution_count": 16,
   "metadata": {},
   "outputs": [
    {
     "data": {
      "text/html": [
       "<div>\n",
       "<style scoped>\n",
       "    .dataframe tbody tr th:only-of-type {\n",
       "        vertical-align: middle;\n",
       "    }\n",
       "\n",
       "    .dataframe tbody tr th {\n",
       "        vertical-align: top;\n",
       "    }\n",
       "\n",
       "    .dataframe thead th {\n",
       "        text-align: right;\n",
       "    }\n",
       "</style>\n",
       "<table border=\"1\" class=\"dataframe\">\n",
       "  <thead>\n",
       "    <tr style=\"text-align: right;\">\n",
       "      <th></th>\n",
       "      <th>ISE_USD</th>\n",
       "      <th>SP</th>\n",
       "      <th>DAX</th>\n",
       "      <th>FTSE</th>\n",
       "      <th>NIKKEI</th>\n",
       "      <th>BOVESPA</th>\n",
       "      <th>EU</th>\n",
       "      <th>EM</th>\n",
       "    </tr>\n",
       "  </thead>\n",
       "  <tbody>\n",
       "    <tr>\n",
       "      <th>ISE_USD</th>\n",
       "      <td>1.000000</td>\n",
       "      <td>0.449561</td>\n",
       "      <td>0.629218</td>\n",
       "      <td>0.648740</td>\n",
       "      <td>0.393225</td>\n",
       "      <td>0.446889</td>\n",
       "      <td>0.690761</td>\n",
       "      <td>0.701954</td>\n",
       "    </tr>\n",
       "    <tr>\n",
       "      <th>SP</th>\n",
       "      <td>0.449561</td>\n",
       "      <td>1.000000</td>\n",
       "      <td>0.685843</td>\n",
       "      <td>0.657673</td>\n",
       "      <td>0.131250</td>\n",
       "      <td>0.722069</td>\n",
       "      <td>0.687550</td>\n",
       "      <td>0.528243</td>\n",
       "    </tr>\n",
       "    <tr>\n",
       "      <th>DAX</th>\n",
       "      <td>0.629218</td>\n",
       "      <td>0.685843</td>\n",
       "      <td>1.000000</td>\n",
       "      <td>0.867369</td>\n",
       "      <td>0.258538</td>\n",
       "      <td>0.585791</td>\n",
       "      <td>0.936393</td>\n",
       "      <td>0.665162</td>\n",
       "    </tr>\n",
       "    <tr>\n",
       "      <th>FTSE</th>\n",
       "      <td>0.648740</td>\n",
       "      <td>0.657673</td>\n",
       "      <td>0.867369</td>\n",
       "      <td>1.000000</td>\n",
       "      <td>0.255236</td>\n",
       "      <td>0.596287</td>\n",
       "      <td>0.948963</td>\n",
       "      <td>0.687543</td>\n",
       "    </tr>\n",
       "    <tr>\n",
       "      <th>NIKKEI</th>\n",
       "      <td>0.393225</td>\n",
       "      <td>0.131250</td>\n",
       "      <td>0.258538</td>\n",
       "      <td>0.255236</td>\n",
       "      <td>1.000000</td>\n",
       "      <td>0.172752</td>\n",
       "      <td>0.283750</td>\n",
       "      <td>0.547288</td>\n",
       "    </tr>\n",
       "    <tr>\n",
       "      <th>BOVESPA</th>\n",
       "      <td>0.446889</td>\n",
       "      <td>0.722069</td>\n",
       "      <td>0.585791</td>\n",
       "      <td>0.596287</td>\n",
       "      <td>0.172752</td>\n",
       "      <td>1.000000</td>\n",
       "      <td>0.621704</td>\n",
       "      <td>0.688074</td>\n",
       "    </tr>\n",
       "    <tr>\n",
       "      <th>EU</th>\n",
       "      <td>0.690761</td>\n",
       "      <td>0.687550</td>\n",
       "      <td>0.936393</td>\n",
       "      <td>0.948963</td>\n",
       "      <td>0.283750</td>\n",
       "      <td>0.621704</td>\n",
       "      <td>1.000000</td>\n",
       "      <td>0.716502</td>\n",
       "    </tr>\n",
       "    <tr>\n",
       "      <th>EM</th>\n",
       "      <td>0.701954</td>\n",
       "      <td>0.528243</td>\n",
       "      <td>0.665162</td>\n",
       "      <td>0.687543</td>\n",
       "      <td>0.547288</td>\n",
       "      <td>0.688074</td>\n",
       "      <td>0.716502</td>\n",
       "      <td>1.000000</td>\n",
       "    </tr>\n",
       "  </tbody>\n",
       "</table>\n",
       "</div>"
      ],
      "text/plain": [
       "          ISE_USD        SP       DAX      FTSE    NIKKEI   BOVESPA        EU  \\\n",
       "ISE_USD  1.000000  0.449561  0.629218  0.648740  0.393225  0.446889  0.690761   \n",
       "SP       0.449561  1.000000  0.685843  0.657673  0.131250  0.722069  0.687550   \n",
       "DAX      0.629218  0.685843  1.000000  0.867369  0.258538  0.585791  0.936393   \n",
       "FTSE     0.648740  0.657673  0.867369  1.000000  0.255236  0.596287  0.948963   \n",
       "NIKKEI   0.393225  0.131250  0.258538  0.255236  1.000000  0.172752  0.283750   \n",
       "BOVESPA  0.446889  0.722069  0.585791  0.596287  0.172752  1.000000  0.621704   \n",
       "EU       0.690761  0.687550  0.936393  0.948963  0.283750  0.621704  1.000000   \n",
       "EM       0.701954  0.528243  0.665162  0.687543  0.547288  0.688074  0.716502   \n",
       "\n",
       "               EM  \n",
       "ISE_USD  0.701954  \n",
       "SP       0.528243  \n",
       "DAX      0.665162  \n",
       "FTSE     0.687543  \n",
       "NIKKEI   0.547288  \n",
       "BOVESPA  0.688074  \n",
       "EU       0.716502  \n",
       "EM       1.000000  "
      ]
     },
     "execution_count": 16,
     "metadata": {},
     "output_type": "execute_result"
    }
   ],
   "source": [
    "df2.corr()"
   ]
  },
  {
   "cell_type": "code",
   "execution_count": 17,
   "metadata": {},
   "outputs": [
    {
     "data": {
      "text/plain": [
       "<matplotlib.axes._subplots.AxesSubplot at 0x2c15400a438>"
      ]
     },
     "execution_count": 17,
     "metadata": {},
     "output_type": "execute_result"
    },
    {
     "data": {
      "image/png": "[encoded data removed]",
      "text/plain": [
       "<Figure size 432x288 with 2 Axes>"
      ]
     },
     "metadata": {
      "needs_background": "light"
     },
     "output_type": "display_data"
    }
   ],
   "source": [
    "sns.heatmap(df2.corr(), square=True, cmap='RdYlGn')"
   ]
  },
  {
   "cell_type": "code",
   "execution_count": 18,
   "metadata": {},
   "outputs": [],
   "source": [
    "sns.set(style = 'dark')"
   ]
  },
  {
   "cell_type": "code",
   "execution_count": 19,
   "metadata": {},
   "outputs": [
    {
     "data": {
      "image/png": "[encoded data removed]",
      "text/plain": [
       "<Figure size 1080x504 with 1 Axes>"
      ]
     },
     "metadata": {},
     "output_type": "display_data"
    }
   ],
   "source": [
    "plt.figure(figsize = [15, 7])\n",
    "plt.plot(df.ISE_TL)\n",
    "plt.plot(df.FTSE)\n",
    "plt.xlabel('date')\n",
    "plt.ylabel('ISE_TL')\n",
    "plt.show()"
   ]
  },
  {
   "cell_type": "code",
   "execution_count": 20,
   "metadata": {},
   "outputs": [],
   "source": [
    "# plt.figure(figsize = [12, 7])\n",
    "# plt.plot(df.ISE_USD)\n",
    "# plt.show()"
   ]
  },
  {
   "cell_type": "code",
   "execution_count": 21,
   "metadata": {},
   "outputs": [],
   "source": [
    "# plt.figure(figsize = [12, 7])\n",
    "# plt.plot(df.SP)\n",
    "# plt.show()"
   ]
  },
  {
   "cell_type": "code",
   "execution_count": 22,
   "metadata": {},
   "outputs": [],
   "source": [
    "# plt.figure(figsize = [12, 7])\n",
    "# plt.plot(df.DAX)\n",
    "# plt.show()"
   ]
  },
  {
   "cell_type": "code",
   "execution_count": 23,
   "metadata": {},
   "outputs": [],
   "source": [
    "# plt.figure(figsize = [12, 7])\n",
    "# plt.plot(df.FTSE)\n",
    "# plt.show()"
   ]
  },
  {
   "cell_type": "code",
   "execution_count": 24,
   "metadata": {},
   "outputs": [],
   "source": [
    "# plt.figure(figsize = [12, 7])\n",
    "# plt.plot(df.NIKKEI)\n",
    "# plt.show()"
   ]
  },
  {
   "cell_type": "code",
   "execution_count": 25,
   "metadata": {},
   "outputs": [],
   "source": [
    "# plt.figure(figsize = [12, 7])\n",
    "# plt.plot(df.BOVESPA)\n",
    "# plt.show()"
   ]
  },
  {
   "cell_type": "code",
   "execution_count": 26,
   "metadata": {},
   "outputs": [],
   "source": [
    "# plt.figure(figsize = [12, 7])\n",
    "# plt.plot(df.EU)\n",
    "# plt.show()"
   ]
  },
  {
   "cell_type": "code",
   "execution_count": 27,
   "metadata": {},
   "outputs": [],
   "source": [
    "# plt.figure(figsize = [12, 7])\n",
    "# plt.plot(df.EM)\n",
    "# plt.show()"
   ]
  },
  {
   "cell_type": "code",
   "execution_count": 31,
   "metadata": {},
   "outputs": [],
   "source": [
    "X_train, X_test, y_train, y_test = train_test_split(X, y, test_size = 0.3, random_state = 21)"
   ]
  },
  {
   "cell_type": "code",
   "execution_count": 32,
   "metadata": {},
   "outputs": [],
   "source": [
    "reg = LinearRegression()"
   ]
  },
  {
   "cell_type": "code",
   "execution_count": 33,
   "metadata": {},
   "outputs": [
    {
     "data": {
      "text/plain": [
       "LinearRegression(copy_X=True, fit_intercept=True, n_jobs=None,\n",
       "         normalize=False)"
      ]
     },
     "execution_count": 33,
     "metadata": {},
     "output_type": "execute_result"
    }
   ],
   "source": [
    "reg.fit(X_train, y_train)"
   ]
  },
  {
   "cell_type": "code",
   "execution_count": 34,
   "metadata": {},
   "outputs": [],
   "source": [
    "y_pred = reg.predict(X_test)"
   ]
  },
  {
   "cell_type": "code",
   "execution_count": 35,
   "metadata": {},
   "outputs": [
    {
     "data": {
      "text/plain": [
       "1.0"
      ]
     },
     "execution_count": 35,
     "metadata": {},
     "output_type": "execute_result"
    }
   ],
   "source": [
    "reg.score(X_test, y_pred)"
   ]
  },
  {
   "cell_type": "code",
   "execution_count": 36,
   "metadata": {},
   "outputs": [],
   "source": [
    "error = mean_absolute_error(y_test, y_pred)"
   ]
  },
  {
   "cell_type": "code",
   "execution_count": 37,
   "metadata": {},
   "outputs": [
    {
     "data": {
      "text/plain": [
       "0.0039043480750752197"
      ]
     },
     "execution_count": 37,
     "metadata": {},
     "output_type": "execute_result"
    }
   ],
   "source": [
    "error"
   ]
  },
  {
   "cell_type": "code",
   "execution_count": null,
   "metadata": {},
   "outputs": [],
   "source": []
  }
 ],
 "metadata": {
  "kernelspec": {
   "display_name": "Python 3",
   "language": "python",
   "name": "python3"
  },
  "language_info": {
   "codemirror_mode": {
    "name": "ipython",
    "version": 3
   },
   "file_extension": ".py",
   "mimetype": "text/x-python",
   "name": "python",
   "nbconvert_exporter": "python",
   "pygments_lexer": "ipython3",
   "version": "3.7.3"
  }
 },
 "nbformat": 4,
 "nbformat_minor": 2
}
